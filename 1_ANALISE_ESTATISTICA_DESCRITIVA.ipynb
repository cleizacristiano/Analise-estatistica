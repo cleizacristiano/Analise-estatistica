{
 "cells": [
  {
   "cell_type": "markdown",
   "id": "afb45832",
   "metadata": {},
   "source": [
    "## ANÁLISE ESTATÍTICA DESCRITIVA DOS DADOS\n",
    "### ESTAÇÃO BOM JESUS DA LAPA"
   ]
  },
  {
   "cell_type": "code",
   "execution_count": null,
   "id": "3982cbfb",
   "metadata": {},
   "outputs": [],
   "source": [
    "import pandas as pd"
   ]
  },
  {
   "cell_type": "code",
   "execution_count": null,
   "id": "f849054a",
   "metadata": {},
   "outputs": [],
   "source": [
    "# Carregue o arquivo .xlsx\n",
    "xlsx_file = 'C:/Winpython/A418_H_BOM_JESUS_DA_LAPA_BA_TESTE.xlsx'\n",
    "df = pd.read_excel(xlsx_file)\n",
    "\n",
    "# Verifique os dados carregados\n",
    "print(df)"
   ]
  },
  {
   "cell_type": "markdown",
   "id": "42d1c1be",
   "metadata": {},
   "source": [
    "## 2m TEMPERATURE (t2m)"
   ]
  },
  {
   "cell_type": "code",
   "execution_count": 7,
   "id": "db5368ee",
   "metadata": {},
   "outputs": [],
   "source": [
    "# Substitua 'Nome_da_Coluna' pelo nome da coluna que você deseja analisar\n",
    "coluna_selecionada3 = df['T2M(°C)']\n",
    "\n",
    "# Calcule a média\n",
    "media3 = coluna_selecionada3.mean()\n",
    "\n",
    "# Calcule a mediana\n",
    "mediana3 = coluna_selecionada3.median()\n",
    "\n",
    "# Calcule a variância\n",
    "variancia3 = coluna_selecionada3.var()\n",
    "\n",
    "# Calcule o desvio padrão\n",
    "desvio_padrao3 = coluna_selecionada3.std()"
   ]
  },
  {
   "cell_type": "code",
   "execution_count": 8,
   "id": "d2da068c",
   "metadata": {},
   "outputs": [
    {
     "name": "stdout",
     "output_type": "stream",
     "text": [
      "Média3: 27.602432059580092\n",
      "Mediana3: 27.07000000000005\n",
      "Variância3: 18.177345297073362\n",
      "Desvio Padrão3: 4.263489802623358\n"
     ]
    }
   ],
   "source": [
    "# Exiba os resultados\n",
    "print(\"Média3:\", media3)\n",
    "print(\"Mediana3:\", mediana3)\n",
    "print(\"Variância3:\", variancia3)\n",
    "print(\"Desvio Padrão3:\", desvio_padrao3)"
   ]
  }
 ],
 "metadata": {
  "kernelspec": {
   "display_name": "Python 3 (ipykernel)",
   "language": "python",
   "name": "python3"
  },
  "language_info": {
   "codemirror_mode": {
    "name": "ipython",
    "version": 3
   },
   "file_extension": ".py",
   "mimetype": "text/x-python",
   "name": "python",
   "nbconvert_exporter": "python",
   "pygments_lexer": "ipython3",
   "version": "3.9.10"
  }
 },
 "nbformat": 4,
 "nbformat_minor": 5
}
